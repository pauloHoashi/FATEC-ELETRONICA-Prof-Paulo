{
  "nbformat": 4,
  "nbformat_minor": 0,
  "metadata": {
    "colab": {
      "name": "robotica_2020.ipynb",
      "provenance": [],
      "collapsed_sections": [],
      "toc_visible": true,
      "authorship_tag": "ABX9TyPNHRo3VPV3wWgGMimES/SQ",
      "include_colab_link": true
    },
    "kernelspec": {
      "name": "python3",
      "display_name": "Python 3"
    }
  },
  "cells": [
    {
      "cell_type": "markdown",
      "metadata": {
        "id": "view-in-github",
        "colab_type": "text"
      },
      "source": [
        "<a href=\"https://colab.research.google.com/github/pauloHoashi/FATEC-ELETRONICA-Prof-Paulo/blob/master/robotica_2020.ipynb\" target=\"_parent\"><img src=\"https://colab.research.google.com/assets/colab-badge.svg\" alt=\"Open In Colab\"/></a>"
      ]
    },
    {
      "cell_type": "markdown",
      "metadata": {
        "id": "JQ_ooYLXdIqQ",
        "colab_type": "text"
      },
      "source": [
        "Disciplina: Robotica\n"
      ]
    },
    {
      "cell_type": "markdown",
      "metadata": {
        "id": "gQYPMta2dOPN",
        "colab_type": "text"
      },
      "source": [
        "# Aula_2020_08_21"
      ]
    },
    {
      "cell_type": "code",
      "metadata": {
        "id": "y_fsGPs4b996",
        "colab_type": "code",
        "colab": {
          "base_uri": "https://localhost:8080/",
          "height": 34
        },
        "outputId": "910f55e2-5f6b-44a2-95eb-f90c819199f8"
      },
      "source": [
        "2 + 2"
      ],
      "execution_count": 1,
      "outputs": [
        {
          "output_type": "execute_result",
          "data": {
            "text/plain": [
              "4"
            ]
          },
          "metadata": {
            "tags": []
          },
          "execution_count": 1
        }
      ]
    },
    {
      "cell_type": "markdown",
      "metadata": {
        "id": "rW-ldlowd0Su",
        "colab_type": "text"
      },
      "source": [
        "Exemplo2:"
      ]
    },
    {
      "cell_type": "code",
      "metadata": {
        "id": "cECVFa9yd2pE",
        "colab_type": "code",
        "colab": {}
      },
      "source": [
        "print( \"Hello world.\")\n",
        "printtf(\"321\")"
      ],
      "execution_count": null,
      "outputs": []
    },
    {
      "cell_type": "markdown",
      "metadata": {
        "id": "I46sr5dndzmU",
        "colab_type": "text"
      },
      "source": [
        ""
      ]
    },
    {
      "cell_type": "markdown",
      "metadata": {
        "id": "YwA1nfLldcnK",
        "colab_type": "text"
      },
      "source": [
        "# Aula_2020_08_27"
      ]
    },
    {
      "cell_type": "code",
      "metadata": {
        "id": "BRYPwTLndiML",
        "colab_type": "code",
        "colab": {
          "base_uri": "https://localhost:8080/",
          "height": 34
        },
        "outputId": "32ce7c8b-d3f1-4e50-884b-832574ee736c"
      },
      "source": [
        "print(\"semana que vem\")"
      ],
      "execution_count": 4,
      "outputs": [
        {
          "output_type": "stream",
          "text": [
            "semana que vem\n"
          ],
          "name": "stdout"
        }
      ]
    }
  ]
}